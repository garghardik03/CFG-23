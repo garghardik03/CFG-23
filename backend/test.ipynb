{
 "cells": [
  {
   "cell_type": "code",
   "execution_count": 27,
   "metadata": {},
   "outputs": [
    {
     "ename": "ImportError",
     "evalue": "cannot import name '_get_object_size' from 'bson' (c:\\Users\\Hardik Garg\\AppData\\Local\\Programs\\Python\\Python311\\Lib\\site-packages\\bson\\__init__.py)",
     "output_type": "error",
     "traceback": [
      "\u001b[1;31m---------------------------------------------------------------------------\u001b[0m",
      "\u001b[1;31mImportError\u001b[0m                               Traceback (most recent call last)",
      "Cell \u001b[1;32mIn[27], line 1\u001b[0m\n\u001b[1;32m----> 1\u001b[0m \u001b[39mimport\u001b[39;00m \u001b[39mpymongo\u001b[39;00m\n",
      "File \u001b[1;32mc:\\Users\\Hardik Garg\\AppData\\Local\\Programs\\Python\\Python311\\Lib\\site-packages\\pymongo\\__init__.py:89\u001b[0m\n\u001b[0;32m     87\u001b[0m \u001b[39mfrom\u001b[39;00m \u001b[39mpymongo\u001b[39;00m \u001b[39mimport\u001b[39;00m _csot\n\u001b[0;32m     88\u001b[0m \u001b[39mfrom\u001b[39;00m \u001b[39mpymongo\u001b[39;00m\u001b[39m.\u001b[39;00m\u001b[39m_version\u001b[39;00m \u001b[39mimport\u001b[39;00m __version__, get_version_string, version_tuple\n\u001b[1;32m---> 89\u001b[0m \u001b[39mfrom\u001b[39;00m \u001b[39mpymongo\u001b[39;00m\u001b[39m.\u001b[39;00m\u001b[39mcollection\u001b[39;00m \u001b[39mimport\u001b[39;00m ReturnDocument\n\u001b[0;32m     90\u001b[0m \u001b[39mfrom\u001b[39;00m \u001b[39mpymongo\u001b[39;00m\u001b[39m.\u001b[39;00m\u001b[39mcommon\u001b[39;00m \u001b[39mimport\u001b[39;00m MAX_SUPPORTED_WIRE_VERSION, MIN_SUPPORTED_WIRE_VERSION\n\u001b[0;32m     91\u001b[0m \u001b[39mfrom\u001b[39;00m \u001b[39mpymongo\u001b[39;00m\u001b[39m.\u001b[39;00m\u001b[39mcursor\u001b[39;00m \u001b[39mimport\u001b[39;00m CursorType\n",
      "File \u001b[1;32mc:\\Users\\Hardik Garg\\AppData\\Local\\Programs\\Python\\Python311\\Lib\\site-packages\\pymongo\\collection.py:35\u001b[0m\n\u001b[0;32m     33\u001b[0m \u001b[39mfrom\u001b[39;00m \u001b[39mbson\u001b[39;00m\u001b[39m.\u001b[39;00m\u001b[39mcodec_options\u001b[39;00m \u001b[39mimport\u001b[39;00m CodecOptions\n\u001b[0;32m     34\u001b[0m \u001b[39mfrom\u001b[39;00m \u001b[39mbson\u001b[39;00m\u001b[39m.\u001b[39;00m\u001b[39mobjectid\u001b[39;00m \u001b[39mimport\u001b[39;00m ObjectId\n\u001b[1;32m---> 35\u001b[0m \u001b[39mfrom\u001b[39;00m \u001b[39mbson\u001b[39;00m\u001b[39m.\u001b[39;00m\u001b[39mraw_bson\u001b[39;00m \u001b[39mimport\u001b[39;00m RawBSONDocument\n\u001b[0;32m     36\u001b[0m \u001b[39mfrom\u001b[39;00m \u001b[39mbson\u001b[39;00m\u001b[39m.\u001b[39;00m\u001b[39mson\u001b[39;00m \u001b[39mimport\u001b[39;00m SON\n\u001b[0;32m     37\u001b[0m \u001b[39mfrom\u001b[39;00m \u001b[39mbson\u001b[39;00m\u001b[39m.\u001b[39;00m\u001b[39mtimestamp\u001b[39;00m \u001b[39mimport\u001b[39;00m Timestamp\n",
      "File \u001b[1;32mc:\\Users\\Hardik Garg\\AppData\\Local\\Programs\\Python\\Python311\\Lib\\site-packages\\bson\\raw_bson.py:56\u001b[0m\n\u001b[0;32m     15\u001b[0m \u001b[39m\"\"\"Tools for representing raw BSON documents.\u001b[39;00m\n\u001b[0;32m     16\u001b[0m \n\u001b[0;32m     17\u001b[0m \u001b[39mInserting and Retrieving RawBSONDocuments\u001b[39;00m\n\u001b[1;32m   (...)\u001b[0m\n\u001b[0;32m     51\u001b[0m \u001b[39moverhead of decoding or encoding BSON.\u001b[39;00m\n\u001b[0;32m     52\u001b[0m \u001b[39m\"\"\"\u001b[39;00m\n\u001b[0;32m     54\u001b[0m \u001b[39mfrom\u001b[39;00m \u001b[39mtyping\u001b[39;00m \u001b[39mimport\u001b[39;00m Any, ItemsView, Iterator, Mapping, Optional\n\u001b[1;32m---> 56\u001b[0m \u001b[39mfrom\u001b[39;00m \u001b[39mbson\u001b[39;00m \u001b[39mimport\u001b[39;00m _get_object_size, _raw_to_dict\n\u001b[0;32m     57\u001b[0m \u001b[39mfrom\u001b[39;00m \u001b[39mbson\u001b[39;00m\u001b[39m.\u001b[39;00m\u001b[39mcodec_options\u001b[39;00m \u001b[39mimport\u001b[39;00m _RAW_BSON_DOCUMENT_MARKER\n\u001b[0;32m     58\u001b[0m \u001b[39mfrom\u001b[39;00m \u001b[39mbson\u001b[39;00m\u001b[39m.\u001b[39;00m\u001b[39mcodec_options\u001b[39;00m \u001b[39mimport\u001b[39;00m DEFAULT_CODEC_OPTIONS \u001b[39mas\u001b[39;00m DEFAULT\n",
      "\u001b[1;31mImportError\u001b[0m: cannot import name '_get_object_size' from 'bson' (c:\\Users\\Hardik Garg\\AppData\\Local\\Programs\\Python\\Python311\\Lib\\site-packages\\bson\\__init__.py)"
     ]
    },
    {
     "name": "stdout",
     "output_type": "stream",
     "text": [
      "Found existing installation: pymongo 4.4.1\n",
      "Uninstalling pymongo-4.4.1:\n",
      "  Would remove:\n",
      "    c:\\users\\hardik garg\\appdata\\local\\programs\\python\\python311\\lib\\site-packages\\bson\\*\n",
      "    c:\\users\\hardik garg\\appdata\\local\\programs\\python\\python311\\lib\\site-packages\\gridfs\\*\n",
      "    c:\\users\\hardik garg\\appdata\\local\\programs\\python\\python311\\lib\\site-packages\\pymongo-4.4.1.dist-info\\*\n",
      "    c:\\users\\hardik garg\\appdata\\local\\programs\\python\\python311\\lib\\site-packages\\pymongo\\*\n",
      "  Would not remove (might be manually added):\n",
      "    c:\\users\\hardik garg\\appdata\\local\\programs\\python\\python311\\lib\\site-packages\\bson\\codec.py\n",
      "    c:\\users\\hardik garg\\appdata\\local\\programs\\python\\python311\\lib\\site-packages\\bson\\network.py\n",
      "    c:\\users\\hardik garg\\appdata\\local\\programs\\python\\python311\\lib\\site-packages\\bson\\py3compat.py\n",
      "Proceed (Y/n)? \n"
     ]
    }
   ],
   "source": [
    "import pymongo"
   ]
  }
 ],
 "metadata": {
  "kernelspec": {
   "display_name": "Python 3",
   "language": "python",
   "name": "python3"
  },
  "language_info": {
   "codemirror_mode": {
    "name": "ipython",
    "version": 3
   },
   "file_extension": ".py",
   "mimetype": "text/x-python",
   "name": "python",
   "nbconvert_exporter": "python",
   "pygments_lexer": "ipython3",
   "version": "3.11.4"
  },
  "orig_nbformat": 4
 },
 "nbformat": 4,
 "nbformat_minor": 2
}
